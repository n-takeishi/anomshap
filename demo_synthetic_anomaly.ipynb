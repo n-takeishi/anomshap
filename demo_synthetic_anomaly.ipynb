{
 "cells": [
  {
   "cell_type": "code",
   "execution_count": null,
   "metadata": {},
   "outputs": [],
   "source": [
    "%load_ext autoreload\n",
    "%autoreload 2\n",
    "\n",
    "import os\n",
    "import json\n",
    "import pickle\n",
    "import numpy as np\n",
    "import sklearn.mixture\n",
    "\n",
    "import shap\n",
    "from anomshap import attribution, exptutil"
   ]
  },
  {
   "cell_type": "code",
   "execution_count": null,
   "metadata": {},
   "outputs": [],
   "source": [
    "# dataset to be examined\n",
    "dataname = 'thyroid'\n",
    "\n",
    "# number of components of GMM\n",
    "n_components = 4"
   ]
  },
  {
   "cell_type": "markdown",
   "metadata": {},
   "source": [
    "## Train GMM model"
   ]
  },
  {
   "cell_type": "code",
   "execution_count": null,
   "metadata": {},
   "outputs": [],
   "source": [
    "class GMM(sklearn.mixture.GaussianMixture):\n",
    "  def fit(self, X, y=None):\n",
    "    super().fit(X)\n",
    "    self.logdet_covs_ = np.zeros(self.n_components)\n",
    "    for i in range(self.n_components):\n",
    "        _ , self.logdet_covs_[i] = np.linalg.slogdet(self.covariances_[i])\n",
    "    return self"
   ]
  },
  {
   "cell_type": "code",
   "execution_count": null,
   "metadata": {},
   "outputs": [],
   "source": [
    "data_train = np.loadtxt(os.path.join('data', 'features', dataname, 'data_train.txt'), ndmin=2)\n",
    "dim_x = data_train.shape[1]\n",
    "\n",
    "outdir = os.path.join('models', 'gmm', dataname)\n",
    "if not os.path.isdir(outdir):\n",
    "    os.makedirs(outdir)\n",
    "\n",
    "model = GMM(n_components=n_components, covariance_type='full')\n",
    "model.fit(data_train)\n",
    "\n",
    "print('trained GMM model')"
   ]
  },
  {
   "cell_type": "markdown",
   "metadata": {},
   "source": [
    "## Compute anomaly attribution"
   ]
  },
  {
   "cell_type": "code",
   "execution_count": null,
   "metadata": {},
   "outputs": [],
   "source": [
    "# load data\n",
    "data_test = np.loadtxt(os.path.join('data', 'features', dataname, 'data_test.txt'), ndmin=2)\n",
    "\n",
    "# use only normal part (first half) of test data\n",
    "data_test = data_test[:int(data_test.shape[0]/2)]\n",
    "\n",
    "# set attributer\n",
    "AT = attribution.Attributer(dim_x, model, 'gmm', 'energy',\n",
    "    trdata_example=shap.kmeans(data_train, 8).data, trdata_mean=np.mean(data_train,axis=0))\n"
   ]
  },
  {
   "cell_type": "code",
   "execution_count": null,
   "metadata": {},
   "outputs": [],
   "source": [
    "np.random.seed(123)\n",
    "\n",
    "# index of sample / feature to be perturbed\n",
    "target_sample_idx = np.random.permutation(data_test.shape[0])[0]\n",
    "target_feature_idx = np.random.permutation(data_test.shape[1])[0]\n",
    "\n",
    "# perturb values\n",
    "perturb_bound = [1.0, 2.0]\n",
    "target_sample = np.copy(data_test[target_sample_idx])\n",
    "sign=[-1,1]; sign = sign[np.random.choice(2)]\n",
    "perturbation = sign*(np.random.rand()*(perturb_bound[1]-perturb_bound[0])+perturb_bound[0])\n",
    "target_sample[target_feature_idx] += perturbation\n",
    "\n",
    "# compute attribution\n",
    "attr_kwargs = {\n",
    "    'anomshap_bl_regparam': 1e-2,\n",
    "    'anomshap_bl_learnrate': 0.1,\n",
    "    'methods': ['margscore', 'kernshap', 'anomshap'],\n",
    "    'kernshap_num_sample': 'auto',\n",
    "    'anomshap_num_sample': 'auto',\n",
    "}\n",
    "attr, info = AT.attribute(target_sample, 1e50, **attr_kwargs)\n",
    "\n",
    "# plot\n",
    "exptutil.plot_attr(attr, anofeats=[target_feature_idx,])\n",
    "'''\n",
    "^ this plots anomaly-score attribution of each feature by each method, where orange bar is the anomalous one\n",
    "margscore = energy of marginal of GMMs\n",
    "kernshap = attribution by kernel SHAP\n",
    "anomshap = attribution by the proposed method\n",
    "'''\n"
   ]
  }
 ],
 "metadata": {
  "kernelspec": {
   "display_name": "Python 3",
   "language": "python",
   "name": "python3"
  },
  "language_info": {
   "codemirror_mode": {
    "name": "ipython",
    "version": 3
   },
   "file_extension": ".py",
   "mimetype": "text/x-python",
   "name": "python",
   "nbconvert_exporter": "python",
   "pygments_lexer": "ipython3",
   "version": "3.8.10"
  }
 },
 "nbformat": 4,
 "nbformat_minor": 4
}
